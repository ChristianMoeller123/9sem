{
  "cells": [
    {
      "cell_type": "code",
      "execution_count": 2,
      "metadata": {
        "id": "qT3aKWHbdiKI"
      },
      "outputs": [],
      "source": [
        "#load packages\n",
        "import numpy as np\n",
        "import sklearn.model_selection\n",
        "import matplotlib.pyplot as plt\n",
        "\n"
      ]
    },
    {
      "cell_type": "code",
      "execution_count": 3,
      "metadata": {
        "id": "8FP9Iapeg-up"
      },
      "outputs": [],
      "source": [
        "#make helper functions\n",
        "\n",
        "def plot_digit(X, y, idx):\n",
        "    img = X[idx].reshape(28,28)\n",
        "    plt.imshow(img, cmap='Greys',  interpolation='nearest')\n",
        "    plt.title('true label: %d' % y[idx])\n",
        "    plt.show()\n"
      ]
    },
    {
      "cell_type": "code",
      "execution_count": 4,
      "metadata": {
        "id": "yj7FSWLgdwDj"
      },
      "outputs": [],
      "source": [
        "#load data\n",
        "\n",
        "from mlxtend.data import mnist_data\n",
        "X, y = mnist_data()\n",
        "\n",
        "\n",
        "# we just focus on 1's and 0's:\n",
        "keep=(y==0) | (y==1)\n",
        "X=X[keep,:]\n",
        "y=y[keep]\n",
        "\n",
        "y=np.expand_dims(y,1)"
      ]
    },
    {
      "cell_type": "code",
      "execution_count": 5,
      "metadata": {
        "colab": {
          "base_uri": "https://localhost:8080/",
          "height": 508
        },
        "id": "xoEj-n1Yd8X0",
        "outputId": "b99752a7-fee5-4044-f1c8-624eb0064abf"
      },
      "outputs": [
        {
          "name": "stderr",
          "output_type": "stream",
          "text": [
            "C:\\Users\\Christian Møller\\AppData\\Local\\Temp\\ipykernel_17292\\1119189001.py:6: DeprecationWarning: Conversion of an array with ndim > 0 to a scalar is deprecated, and will error in future. Ensure you extract a single element from your array before performing this operation. (Deprecated NumPy 1.25.)\n",
            "  plt.title('true label: %d' % y[idx])\n"
          ]
        },
        {
          "data": {
            "image/png": "[encoded data removed]",
            "text/plain": [
              "<Figure size 640x480 with 1 Axes>"
            ]
          },
          "metadata": {},
          "output_type": "display_data"
        }
      ],
      "source": [
        "#inspect data\n",
        "plot_digit(X, y, 700)"
      ]
    },
    {
      "cell_type": "code",
      "execution_count": 6,
      "metadata": {
        "id": "Tm6NsRYlpr0I"
      },
      "outputs": [],
      "source": [
        "# create a loss function:\n",
        "def avrLoss(y,yhat):\n",
        "  eps=1e-3\n",
        "  yhat=np.maximum(yhat,eps) #remove 0's\n",
        "  yhat=np.minimum(yhat,1-eps) #remove 1's\n",
        "\n",
        "\n",
        "  loss=-(y*np.log(yhat)+(1-y)*np.log(1-yhat))\n",
        "\n",
        "  return np.mean(loss)\n"
      ]
    },
    {
      "cell_type": "code",
      "execution_count": 7,
      "metadata": {
        "id": "nJmOK-5Jm8x5"
      },
      "outputs": [],
      "source": [
        "#test loss function:\n",
        "loss=avrLoss(np.array([0,1,0,1]),np.linspace(.1,.9,4))\n",
        "assert np.all(loss==0.5543313122608056)\n"
      ]
    },
    {
      "cell_type": "code",
      "execution_count": 8,
      "metadata": {
        "id": "LlyS8wLCqjzW"
      },
      "outputs": [],
      "source": [
        "#create a sigmoid\n",
        "def sigmoid(x):\n",
        "  x=np.maximum(x,-700)\n",
        "  return 1/(1+np.exp(-x))"
      ]
    },
    {
      "cell_type": "code",
      "execution_count": 9,
      "metadata": {
        "id": "bHbhJnprq_nb"
      },
      "outputs": [],
      "source": [
        "#check sigmoid\n",
        "\n",
        "out=sigmoid(np.array(range(-5,5)))\n",
        "assert np.all(np.around(out,8)==np.array([0.00669285, 0.01798621, 0.04742587, 0.11920292, 0.26894142, 0.5, 0.73105858, 0.88079708, 0.95257413, 0.98201379]))"
      ]
    },
    {
      "cell_type": "code",
      "execution_count": 10,
      "metadata": {
        "id": "rS9Pw9uBhUog"
      },
      "outputs": [],
      "source": [
        "#make test & train data\n",
        "\n",
        "Xtrain,Xtest,ytrain,ytest=sklearn.model_selection.train_test_split(X,y,test_size=0.3,shuffle=True)"
      ]
    },
    {
      "cell_type": "code",
      "execution_count": 12,
      "metadata": {
        "colab": {
          "base_uri": "https://localhost:8080/"
        },
        "id": "v2v4HYCsdwZr",
        "outputId": "3f62326f-8200-4f7a-a0eb-68399c7e6ee1"
      },
      "outputs": [
        {
          "name": "stdout",
          "output_type": "stream",
          "text": [
            "0 0.6931471805599454 0.48\n",
            "10 0.020734085415436546 0.9971428571428571\n",
            "20 0.0011287201951856408 1.0\n",
            "30 0.0010033980814399162 1.0\n",
            "40 0.0010014964241759504 1.0\n",
            "train accuracy: 100.0 %\n",
            "test accuracy: 99.33333333333333 %\n"
          ]
        }
      ],
      "source": [
        "#train\n",
        "w=np.zeros((Xtrain.shape[1],1))\n",
        "b=0\n",
        "nEpoch=50\n",
        "\n",
        "accuracy=np.zeros(nEpoch)\n",
        "trainRate=0.005\n",
        "for iTrain in range(nEpoch):\n",
        "  #evaluate\n",
        "  a=sigmoid(np.matmul(Xtrain,w)+b)\n",
        "\n",
        "  #update weights\n",
        "  wgrad=np.matmul(Xtrain.T,(a-ytrain))/ytrain.size\n",
        "  bgrad=np.sum(a.T-ytrain)/ytrain.size\n",
        "\n",
        "  assert(wgrad.shape == w.shape)\n",
        "  assert(np.isscalar(bgrad))\n",
        "\n",
        "  w-=wgrad*trainRate\n",
        "  b-=bgrad*trainRate\n",
        "\n",
        "  #calculate loss & accuracy\n",
        "  loss=avrLoss(ytrain,a)\n",
        "  yhat=a>.5\n",
        "  accuracy[iTrain]=np.mean(yhat==ytrain)\n",
        "\n",
        "  if np.mod(iTrain,10)==0:\n",
        "    print(iTrain,loss,accuracy[iTrain])\n",
        "\n",
        "Y_prediction_test = sigmoid(np.matmul(Xtest,w)+b)>0.5\n",
        "Y_prediction_train = sigmoid(np.matmul(Xtrain,w)+b)>0.5\n",
        "\n",
        "print(\"train accuracy: {} %\".format(100 - np.mean(np.abs(Y_prediction_train - ytrain)) * 100))\n",
        "print(\"test accuracy: {} %\".format(100 - np.mean(np.abs(Y_prediction_test - ytest)) * 100))"
      ]
    },
    {
      "cell_type": "code",
      "execution_count": 13,
      "metadata": {
        "colab": {
          "base_uri": "https://localhost:8080/",
          "height": 430
        },
        "id": "RApWOUnQk2UP",
        "outputId": "2ead9f6a-a551-4c55-d180-5e5e3050feee"
      },
      "outputs": [
        {
          "data": {
            "image/png": "[encoded data removed]",
            "text/plain": [
              "<Figure size 640x480 with 2 Axes>"
            ]
          },
          "metadata": {},
          "output_type": "display_data"
        }
      ],
      "source": [
        "#see what it does:\n",
        "\n",
        "img = w.reshape(28,28)\n",
        "h=plt.imshow(img, cmap='Greys',  interpolation='nearest')\n",
        "plt.colorbar(h)\n",
        "plt.show()"
      ]
    },
    {
      "cell_type": "code",
      "execution_count": 14,
      "metadata": {
        "colab": {
          "base_uri": "https://localhost:8080/",
          "height": 486
        },
        "id": "-bxCgJIItwq1",
        "outputId": "8e911add-8a10-444b-e6d8-cdc6020ad8ed"
      },
      "outputs": [
        {
          "name": "stderr",
          "output_type": "stream",
          "text": [
            "c:\\mamba2\\envs\\deeplearning\\Lib\\site-packages\\sklearn\\utils\\validation.py:1339: DataConversionWarning: A column-vector y was passed when a 1d array was expected. Please change the shape of y to (n_samples, ), for example using ravel().\n",
            "  y = column_or_1d(y, warn=True)\n"
          ]
        },
        {
          "data": {
            "image/png": "[encoded data removed]",
            "text/plain": [
              "<Figure size 640x480 with 1 Axes>"
            ]
          },
          "metadata": {},
          "output_type": "display_data"
        }
      ],
      "source": [
        "#let's just quickly compare with a premade logistic regression implementation from sklearn:\n",
        "\n",
        "from sklearn.linear_model import LogisticRegression\n",
        "clf = LogisticRegression(random_state=0).fit(X, y)\n",
        "\n",
        "clf.predict(X)\n",
        "clf.score(X, y)\n",
        "\n",
        "img = (clf.coef_).reshape(28,28)\n",
        "plt.imshow(img, cmap='Greys',  interpolation='nearest')\n",
        "plt.show()"
      ]
    }
  ],
  "metadata": {
    "colab": {
      "provenance": []
    },
    "kernelspec": {
      "display_name": "Python 3",
      "name": "python3"
    },
    "language_info": {
      "codemirror_mode": {
        "name": "ipython",
        "version": 3
      },
      "file_extension": ".py",
      "mimetype": "text/x-python",
      "name": "python",
      "nbconvert_exporter": "python",
      "pygments_lexer": "ipython3",
      "version": "3.12.5"
    }
  },
  "nbformat": 4,
  "nbformat_minor": 0
}
